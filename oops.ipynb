{
  "nbformat": 4,
  "nbformat_minor": 0,
  "metadata": {
    "colab": {
      "provenance": []
    },
    "kernelspec": {
      "name": "python3",
      "display_name": "Python 3"
    },
    "language_info": {
      "name": "python"
    }
  },
  "cells": [
    {
      "cell_type": "markdown",
      "source": [
        "# Python OOPs Questions"
      ],
      "metadata": {
        "id": "S9bhqVx094em"
      }
    },
    {
      "cell_type": "markdown",
      "source": [
        "1. What is Object-Oriented Programming (OOP)?\n",
        "-   Object-Oriented Programming (OOP) is a programming paradigm (style) based on the concept of “objects”.\n",
        "An object is a collection of data (attributes) and methods (functions) that operate on that data.\n",
        "Instead of just writing code as a sequence of instructions, OOP lets you model real-world things — like a car, bank account, or student — as objects in code.\n",
        "\n",
        "2.  What is a class in OOPs?\n",
        "- A class is a blueprint or template in Object-Oriented Programming (OOP).\n",
        "It defines how objects of that type will work — what data they have (attributes) and what actions they can perform (methods).\n",
        "\n",
        "3.  What is an object in OOP?\n",
        "- An object is a real instance of a class.\n",
        "It’s a thing you create based on the class blueprint.\n",
        "It contains real data (attributes) and can perform actions (methods) defined in the class.\n",
        "\n",
        "4.  What is the difference between abstraction and encapsulation?\n",
        "-  Abstraction → Hides complexity, shows only essential features.\n",
        "\n",
        "Focus: What something does.\n",
        "Example: Car dashboard hides engine details.\n",
        "\n",
        " Encapsulation → Hides data, restricts direct access.\n",
        "\n",
        "Focus: How data is protected.\n",
        "Example: Private bank balance with getters/setters.\n",
        "\n",
        "5.  What are dunder methods in Python?\n",
        "- They make your custom objects work nicely with Python’s built-in functions & operators.\n",
        "\n",
        "Dunder = Double UNDerscore\n",
        "\n",
        "These are special methods in Python with names like __init__, __str__, __len__ — they always start and end with two underscores.\n",
        "\n",
        "6. Explain the concept of inheritance in OOP?\n",
        "- nheritance is an OOP concept that lets one class reuse the properties and methods of another class.\n",
        "\n",
        "It creates a parent-child relationship:\n",
        "\n",
        "Parent class (base/super class) → the original class with common code.\n",
        "\n",
        "Child class (derived/sub class) → inherits stuff from the parent and can add or change things.\n",
        "\n",
        "7.  What is polymorphism in OOP?\n",
        "- In OOP, it lets different classes have methods with the same name, but with different behavior.\n",
        "\n",
        "8.  How is encapsulation achieved in Python?\n",
        "- Encapsulation = Hiding internal data & restricting direct access, so you control how data is read or modified.\n",
        "\n",
        "In Python, you achieve this by:\n",
        "\n",
        " Using Private Attributes\n",
        "Prefix an attribute with _ (protected) or __ (private) to discourage direct access.\n",
        "\n",
        "Using Getters and Setters,\n",
        "Use methods to read or update private data safely.\n",
        "\n",
        "9.  What is a constructor in Python?\n",
        "- A constructor is a special method in a class that runs automatically when you create an object.\n",
        "\n",
        " In Python, the constructor is always named __init__.\n",
        "\n",
        "\n",
        "10. What are class and static methods in Python+\n",
        "-  class method works with the class itself, not just an object.\n",
        "\n",
        " It has access to class variables and can modify them.\n",
        "\n",
        " Uses the @classmethod decorator.\n",
        "\n",
        " First parameter is always cls (not self).\n",
        "\n",
        " A static method does not care about class or instance — it’s just a regular function inside a class for organization.\n",
        "\n",
        " Uses the @staticmethod decorator.\n",
        "\n",
        " No self or cls.\n",
        "\n",
        "11. What is method overriding in OOP?\n",
        "- Method overriding means a child class provides a new version of a method that it inherits from its parent class.\n",
        "\n",
        "12.  What is method overriding in OOP?\n",
        "-  Method overriding means a child class defines a method that has the same name as a method in its parent class, but changes its behavior.\n",
        "\n",
        "13. What is a property decorator in Python?\n",
        "- The @property decorator turns a method into a read-only attribute.\n",
        "It lets you access a method like an attribute, without parentheses.\n",
        "\n",
        "14. Why is polymorphism important in OOP?\n",
        "- Polymorphism means “many forms” — it lets you use the same method name on different classes, and each class does it its own way.\n",
        "\n",
        "15. What is an abstract class in Python?\n",
        "- An abstract class is a base class that cannot be directly instantiated.\n",
        "It can define methods that must be implemented by its child classes.\n",
        "\n",
        "16. What are the advantages of OOP?\n",
        "- Advantages of OOP\n",
        "\n",
        "1️⃣ Modularity\n",
        "Code is organized into classes & objects, making it easy to manage.\n",
        "\n",
        "2️⃣ Reusability\n",
        "Use inheritance to reuse existing code instead of rewriting it.\n",
        "\n",
        "3️⃣ Abstraction\n",
        "Show only relevant details, hide unnecessary complexity.\n",
        "\n",
        "4️⃣ Encapsulation\n",
        "Protects data by keeping it hidden and controlled with methods.\n",
        "\n",
        "5️⃣ Polymorphism\n",
        "Same method name works in different ways — makes code flexible.\n",
        "\n",
        "6️⃣ Easier Maintenance\n",
        "Changes are easier — fix or update one class without breaking everything.\n",
        "\n",
        "7️⃣ Real-world Modeling\n",
        "Maps real-world things (cars, students, accounts) into code objects naturally.\n",
        "\n",
        "17. What is the difference between a class variable and an instance variable?\n",
        "-  Class Variable?\n",
        "✅ Shared by all objects of the class.\n",
        "\n",
        "✅ Defined inside the class, but outside any method.\n",
        "\n",
        "✅ Changing it affects all instances.\n",
        "\n",
        " Instance Variable\n",
        "\n",
        "✅ Unique to each object.\n",
        "\n",
        "✅ Defined inside methods, usually __init__().\n",
        "\n",
        "✅ Changing it affects only that specific object.\n",
        "\n",
        "18. What is multiple inheritance in Python?\n",
        "- Multiple inheritance means a **child class inherits from more than one parent class at the same time.\n",
        "\n",
        " The child class gets all the properties and methods from all its parent classes.\n",
        "\n",
        " 19.  Explain the purpose of ‘’__str__’ and ‘__repr__’ ‘ methods in Python\n",
        "-  __str__\n",
        "\n",
        "Defines the “nice” or user-friendly string version of an object.\n",
        "\n",
        "Used by print() and str().\n",
        "\n",
        " __repr__\n",
        "\n",
        "Defines the “official” or developer-friendly representation.\n",
        "\n",
        "Should show enough detail to recreate the object, if possible.\n",
        "\n",
        "Used by repr() and the Python shell.\n",
        "\n",
        "20. What is the significance of the ‘super()’ function in Python?\n",
        "-  super() is a built-in function that calls a method from the parent class (superclass).\n",
        "It’s mainly used in inheritance.\n",
        "\n",
        "21. What is the significance of the __del__ method in Python?\n",
        "- The __del__ method is a special method called a destructor.\n",
        "It runs automatically when an object is about to be destroyed (garbage collected).\n",
        "\n",
        "22. What is the difference between @staticmethod and @classmethod in Python?\n",
        "- A static method is just a regular function inside a class.\n",
        "It doesn’t need access to the class (cls) or the instance (self).\n",
        " Used for utility functions that logically belong to the class.\n",
        "\n",
        " A class method does work with the class itself.\n",
        " It takes cls as its first argument, not self.\n",
        " Can access and modify class variables that are shared by all instances.\n",
        "\n",
        " 23. How does polymorphism work in Python with inheritance?\n",
        " - Polymorphism means one method name, but different behavior depending on the object’s class.\n",
        "\n",
        " In inheritance, a parent class defines a method, and child classes override it with their own version.\n",
        "\n",
        " 24.  What is method chaining in Python OOP?\n",
        " - Method chaining means calling multiple methods one after another in a single line.\n",
        "Each method returns the object itself, so the next method can be called directly.\n",
        "\n",
        "25.  What is the purpose of the __call__ method in Python?\n",
        "- The __call__ method is a special method that makes an object behave like a function."
      ],
      "metadata": {
        "id": "TEFDgZsV7iJ-"
      }
    },
    {
      "cell_type": "code",
      "execution_count": 1,
      "metadata": {
        "colab": {
          "base_uri": "https://localhost:8080/"
        },
        "id": "9HtTV0Dp7YTX",
        "outputId": "d2e50b29-6ccb-4add-8fbd-3d0d4feb704b"
      },
      "outputs": [
        {
          "output_type": "stream",
          "name": "stdout",
          "text": [
            "The animal makes a sound.\n"
          ]
        }
      ],
      "source": [
        "'''Create a parent class Animal with a method speak() that prints a generic message. Create a child class Dog\n",
        "that overrides the speak() method to print \"Bark!\".'''\n",
        "class Animal:\n",
        "    def speak(self):\n",
        "        print(\"The animal makes a sound.\")\n",
        "\n",
        "class Dog(Animal):\n",
        "    def speak(self):\n",
        "        print(\"Bark!\")\n",
        "\n",
        "a = Animal()\n",
        "a.speak()"
      ]
    },
    {
      "cell_type": "code",
      "source": [
        "''' Write a program to create an abstract class Shape with a method area(). Derive classes Circle and Rectangle\n",
        "from it and implement the area() method in both.'''\n",
        "from abc import ABC, abstractmethod\n",
        "import math\n",
        "\n",
        "# Abstract class\n",
        "class Shape(ABC):\n",
        "    @abstractmethod\n",
        "    def area(self):\n",
        "        pass\n",
        "\n",
        "# Derived class: Circle\n",
        "class Circle(Shape):\n",
        "    def __init__(self, radius):\n",
        "        self.radius = radius\n",
        "\n",
        "    def area(self):\n",
        "        return math.pi * self.radius ** 2\n",
        "\n",
        "# Derived class: Rectangle\n",
        "class Rectangle(Shape):\n",
        "    def __init__(self, width, height):\n",
        "        self.width = width\n",
        "        self.height = height\n",
        "\n",
        "    def area(self):\n",
        "        return self.width * self.height\n",
        "\n",
        "# Test\n",
        "c = Circle(5)\n",
        "print(\"Circle area:\", c.area())\n",
        "\n",
        "r = Rectangle(4, 6)\n",
        "print(\"Rectangle area:\", r.area())\n"
      ],
      "metadata": {
        "colab": {
          "base_uri": "https://localhost:8080/"
        },
        "id": "Q4cZLlwh7jgC",
        "outputId": "3a37173c-7101-4d01-9d90-6f6623bac8b0"
      },
      "execution_count": 2,
      "outputs": [
        {
          "output_type": "stream",
          "name": "stdout",
          "text": [
            "Circle area: 78.53981633974483\n",
            "Rectangle area: 24\n"
          ]
        }
      ]
    },
    {
      "cell_type": "code",
      "source": [
        "''' Implement a multi-level inheritance scenario where a class Vehicle has an attribute type. Derive a class Car\n",
        "and further derive a class ElectricCar that adds a battery attribute.'''\n",
        "# Base class\n",
        "class Vehicle:\n",
        "    def __init__(self, type):\n",
        "        self.type = type\n",
        "\n",
        "# First derived class\n",
        "class Car(Vehicle):\n",
        "    def __init__(self, type, brand):\n",
        "        super().__init__(type)   # Call Vehicle's constructor\n",
        "        self.brand = brand\n",
        "\n",
        "# Second derived class (multi-level)\n",
        "class ElectricCar(Car):\n",
        "    def __init__(self, type, brand, battery):\n",
        "        super().__init__(type, brand)  # Call Car's constructor\n",
        "        self.battery = battery\n",
        "\n",
        "    def display_info(self):\n",
        "        print(f\"Type: {self.type}\")\n",
        "        print(f\"Brand: {self.brand}\")\n",
        "        print(f\"Battery Capacity: {self.battery} kWh\")\n",
        "\n",
        "# Test\n",
        "ecar = ElectricCar(\"Four Wheeler\", \"Tesla\", 75)\n",
        "ecar.display_info()\n"
      ],
      "metadata": {
        "colab": {
          "base_uri": "https://localhost:8080/"
        },
        "id": "3w4PCNb57jch",
        "outputId": "6719f9d5-c665-40dd-cfb9-feed8251efa4"
      },
      "execution_count": 3,
      "outputs": [
        {
          "output_type": "stream",
          "name": "stdout",
          "text": [
            "Type: Four Wheeler\n",
            "Brand: Tesla\n",
            "Battery Capacity: 75 kWh\n"
          ]
        }
      ]
    },
    {
      "cell_type": "code",
      "source": [
        "'''Demonstrate polymorphism by creating a base class Bird with a method fly(). Create two derived classes\n",
        "Sparrow and Penguin that override the fly() method.'''\n",
        "# Base class\n",
        "class Bird:\n",
        "    def fly(self):\n",
        "        print(\"Some birds can fly.\")\n",
        "\n",
        "# Derived class: Sparrow\n",
        "class Sparrow(Bird):\n",
        "    def fly(self):\n",
        "        print(\"Sparrow flies high in the sky!\")\n",
        "\n",
        "# Derived class: Penguin\n",
        "class Penguin(Bird):\n",
        "    def fly(self):\n",
        "        print(\"Penguins can't fly, but they swim well!\")\n",
        "\n",
        "# Polymorphism in action\n",
        "birds = [Sparrow(), Penguin()]\n",
        "\n",
        "for bird in birds:\n",
        "    bird.fly()\n"
      ],
      "metadata": {
        "colab": {
          "base_uri": "https://localhost:8080/"
        },
        "id": "Auiq_rNd7jaA",
        "outputId": "c9a2e24c-e6cd-4bfb-d27d-e1c987b55010"
      },
      "execution_count": 4,
      "outputs": [
        {
          "output_type": "stream",
          "name": "stdout",
          "text": [
            "Sparrow flies high in the sky!\n",
            "Penguins can't fly, but they swim well!\n"
          ]
        }
      ]
    },
    {
      "cell_type": "code",
      "source": [
        "'''Write a program to demonstrate encapsulation by creating a class BankAccount with private attributes\n",
        "balance and methods to deposit, withdraw, and check balance.'''\n",
        "class BankAccount:\n",
        "    def __init__(self, initial_balance=0):\n",
        "        self.__balance = initial_balance  # Private attribute\n",
        "\n",
        "    def deposit(self, amount):\n",
        "        if amount > 0:\n",
        "            self.__balance += amount\n",
        "            print(f\"Deposited: ${amount}\")\n",
        "        else:\n",
        "            print(\"Deposit amount must be positive.\")\n",
        "\n",
        "    def withdraw(self, amount):\n",
        "        if amount <= self.__balance:\n",
        "            self.__balance -= amount\n",
        "            print(f\"Withdrew: ${amount}\")\n",
        "        else:\n",
        "            print(\"Insufficient funds.\")\n",
        "\n",
        "    def check_balance(self):\n",
        "        print(f\"Current balance: ${self.__balance}\")\n",
        "\n",
        "# Test\n",
        "account = BankAccount(100)\n",
        "account.check_balance()    # Current balance: $100\n",
        "\n",
        "account.deposit(50)        # Deposited: $50\n",
        "account.check_balance()    # Current balance: $150\n",
        "\n",
        "account.withdraw(70)       # Withdrew: $70\n",
        "account.check_balance()    # Current balance: $80\n",
        "\n",
        "account.withdraw(200)      # Insufficient funds.\n",
        "\n",
        "# Trying to access __balance directly will fail:\n",
        "# print(account.__balance)  # AttributeError!\n"
      ],
      "metadata": {
        "colab": {
          "base_uri": "https://localhost:8080/"
        },
        "id": "iqFQs1T17jXf",
        "outputId": "10335a05-f3d6-48a3-c702-272e06f972ce"
      },
      "execution_count": 5,
      "outputs": [
        {
          "output_type": "stream",
          "name": "stdout",
          "text": [
            "Current balance: $100\n",
            "Deposited: $50\n",
            "Current balance: $150\n",
            "Withdrew: $70\n",
            "Current balance: $80\n",
            "Insufficient funds.\n"
          ]
        }
      ]
    },
    {
      "cell_type": "code",
      "source": [
        "''' Demonstrate runtime polymorphism using a method play() in a base class Instrument. Derive classes Guitar\n",
        "and Piano that implement their own version of play().'''\n",
        "# Base class\n",
        "class Instrument:\n",
        "    def play(self):\n",
        "        print(\"Playing an instrument.\")\n",
        "\n",
        "# Derived class: Guitar\n",
        "class Guitar(Instrument):\n",
        "    def play(self):\n",
        "        print(\"Strumming the guitar strings!\")\n",
        "\n",
        "# Derived class: Piano\n",
        "class Piano(Instrument):\n",
        "    def play(self):\n",
        "        print(\"Playing the piano keys!\")\n",
        "\n",
        "# Runtime Polymorphism\n",
        "instruments = [Guitar(), Piano()]\n",
        "\n",
        "for instrument in instruments:\n",
        "    instrument.play()\n"
      ],
      "metadata": {
        "colab": {
          "base_uri": "https://localhost:8080/"
        },
        "id": "tllxYSwG7jVF",
        "outputId": "f199c58b-a1aa-4a2e-d95f-af05f4a99524"
      },
      "execution_count": 6,
      "outputs": [
        {
          "output_type": "stream",
          "name": "stdout",
          "text": [
            "Strumming the guitar strings!\n",
            "Playing the piano keys!\n"
          ]
        }
      ]
    },
    {
      "cell_type": "code",
      "source": [
        "''' Create a class MathOperations with a class method add_numbers() to add two numbers and a static\n",
        "method subtract_numbers() to subtract two numbers.'''\n",
        "class MathOperations:\n",
        "    @classmethod\n",
        "    def add_numbers(cls, a, b):\n",
        "        return a + b\n",
        "\n",
        "    @staticmethod\n",
        "    def subtract_numbers(a, b):\n",
        "        return a - b\n",
        "\n",
        "a=MathOperations.add_numbers(5,3)\n",
        "print(a)"
      ],
      "metadata": {
        "colab": {
          "base_uri": "https://localhost:8080/"
        },
        "id": "TN1IrUF57jSu",
        "outputId": "18d4a065-6c19-4b66-8ce9-8799f9036bed"
      },
      "execution_count": 8,
      "outputs": [
        {
          "output_type": "stream",
          "name": "stdout",
          "text": [
            "8\n"
          ]
        }
      ]
    },
    {
      "cell_type": "code",
      "source": [
        "''' Implement a class Person with a class method to count the total number of persons created'''\n",
        "class Person:\n",
        "    count = 0\n",
        "\n",
        "    def __init__(self, name):\n",
        "        self.name = name\n",
        "        Person.count += 1\n",
        "\n",
        "    @classmethod\n",
        "    def get_total_persons(cls):\n",
        "        return cls.count\n",
        "\n",
        "person1 = Person(\"Alice\")\n",
        "person2 = Person(\"Bob\")\n",
        "person3 = Person(\"Charlie\")\n",
        "\n",
        "print(\"Total persons:\", Person.get_total_persons())"
      ],
      "metadata": {
        "colab": {
          "base_uri": "https://localhost:8080/"
        },
        "id": "BBDdKkJ17jQL",
        "outputId": "0beb869c-34cf-46d4-c3ef-28b92dcdb110"
      },
      "execution_count": 9,
      "outputs": [
        {
          "output_type": "stream",
          "name": "stdout",
          "text": [
            "Total persons: 3\n"
          ]
        }
      ]
    },
    {
      "cell_type": "code",
      "source": [
        "'''Write a class Fraction with attributes numerator and denominator. Override the str method to display the\n",
        "fraction as \"numerator/denominator\".'''\n",
        "class Fraction:\n",
        "    def __init__(self, numerator, denominator):\n",
        "        self.numerator = numerator\n",
        "        self.denominator = denominator\n",
        "\n",
        "    def __str__(self):\n",
        "        return f\"{self.numerator}/{self.denominator}\"\n",
        "\n",
        "fraction = Fraction(3, 4)\n",
        "print(fraction)"
      ],
      "metadata": {
        "colab": {
          "base_uri": "https://localhost:8080/"
        },
        "id": "wfta9Nfa7jNz",
        "outputId": "b3851fb1-9b11-4a94-b180-26ce17fa9321"
      },
      "execution_count": 10,
      "outputs": [
        {
          "output_type": "stream",
          "name": "stdout",
          "text": [
            "3/4\n"
          ]
        }
      ]
    },
    {
      "cell_type": "code",
      "source": [
        "'''Demonstrate operator overloading by creating a class Vector and overriding the add method to add two\n",
        "vectors.'''\n",
        "class Vector:\n",
        "    def __init__(self, x, y):\n",
        "        self.x = x\n",
        "        self.y = y\n",
        "\n",
        "    # Overload the + operator\n",
        "    def __add__(self, other):\n",
        "        return Vector(self.x + other.x, self.y + other.y)\n",
        "\n",
        "    def __str__(self):\n",
        "        return f\"Vector({self.x}, {self.y})\"\n",
        "\n",
        "# Test\n",
        "v1 = Vector(2, 3)\n",
        "v2 = Vector(4, 5)\n",
        "v3 = v1 + v2  # Uses overloaded __add__\n",
        "\n",
        "print(v1)  # Vector(2, 3)\n",
        "print(v2)  # Vector(4, 5)\n",
        "print(v3)  # Vector(6, 8)\n"
      ],
      "metadata": {
        "colab": {
          "base_uri": "https://localhost:8080/"
        },
        "id": "LSjO-TXS7jLY",
        "outputId": "37d09fca-f6ef-4b00-c2c9-203eb82f8d7a"
      },
      "execution_count": 11,
      "outputs": [
        {
          "output_type": "stream",
          "name": "stdout",
          "text": [
            "Vector(2, 3)\n",
            "Vector(4, 5)\n",
            "Vector(6, 8)\n"
          ]
        }
      ]
    },
    {
      "cell_type": "code",
      "source": [
        "''' Create a class Person with attributes name and age. Add a method greet() that prints \"Hello, my name is\n",
        "{name} and I am {age} years old.\"'''\n",
        "class Person:\n",
        "    def __init__(self, name, age):\n",
        "        self.name = name\n",
        "        self.age = age\n",
        "\n",
        "    def greet(self):\n",
        "        print(f\"Hello, my name is {self.name} and I am {self.age} years old.\")\n",
        "\n",
        "person = Person(\"Alice\", 30)\n",
        "person.greet()"
      ],
      "metadata": {
        "colab": {
          "base_uri": "https://localhost:8080/"
        },
        "id": "ipSIkcNr7jI-",
        "outputId": "83641694-434c-43f9-8c4e-5dc5bcb82692"
      },
      "execution_count": 13,
      "outputs": [
        {
          "output_type": "stream",
          "name": "stdout",
          "text": [
            "Hello, my name is Alice and I am 30 years old.\n"
          ]
        }
      ]
    },
    {
      "cell_type": "code",
      "source": [
        "''' Implement a class Student with attributes name and grades. Create a method average_grade() to compute\n",
        "the average of the grades.'''\n",
        "class Student:\n",
        "    def __init__(self, name, grades):\n",
        "        self.name = name\n",
        "        self.grades = grades\n",
        "\n",
        "    def average_grade(self):\n",
        "        if not self.grades:\n",
        "            return 0\n",
        "        return sum(self.grades)\n",
        "\n",
        "student = Student(\"Alice\", [85, 90, 78, 92])\n",
        "print(student.average_grade())"
      ],
      "metadata": {
        "colab": {
          "base_uri": "https://localhost:8080/"
        },
        "id": "rc5pChOS7jGW",
        "outputId": "0e0e6b28-90dc-4a29-cd91-8fa9bf3b4455"
      },
      "execution_count": 16,
      "outputs": [
        {
          "output_type": "stream",
          "name": "stdout",
          "text": [
            "345\n"
          ]
        }
      ]
    },
    {
      "cell_type": "code",
      "source": [
        "''' Create a class Rectangle with methods set_dimensions() to set the dimensions and area() to calculate the\n",
        "area.'''\n",
        "class Rectangle:\n",
        "    def __init__(self, length, width):\n",
        "        self.length = length\n",
        "        self.width = width\n",
        "\n",
        "    def set_dimensions(self, length, width):\n",
        "        self.length = length\n",
        "        self.width = width\n",
        "\n",
        "    def area(self):\n",
        "        return self.length * self.width\n",
        "\n",
        "rectangle = Rectangle(4, 6)\n",
        "print(rectangle.area())"
      ],
      "metadata": {
        "colab": {
          "base_uri": "https://localhost:8080/"
        },
        "id": "2XoQuBMm7jDf",
        "outputId": "b6db2fcc-38af-4b13-f933-f38e485f3321"
      },
      "execution_count": 17,
      "outputs": [
        {
          "output_type": "stream",
          "name": "stdout",
          "text": [
            "24\n"
          ]
        }
      ]
    },
    {
      "cell_type": "code",
      "source": [
        "''' Create a class Employee with a method calculate_salary() that computes the salary based on hours worked\n",
        "and hourly rate. Create a derived class Manager that adds a bonus to the salary.'''\n",
        "# Base class\n",
        "class Employee:\n",
        "    def __init__(self, name, hours_worked, hourly_rate):\n",
        "        self.name = name\n",
        "        self.hours_worked = hours_worked\n",
        "        self.hourly_rate = hourly_rate\n",
        "\n",
        "    def calculate_salary(self):\n",
        "        salary = self.hours_worked * self.hourly_rate\n",
        "        return salary\n",
        "\n",
        "# Derived class\n",
        "class Manager(Employee):\n",
        "    def __init__(self, name, hours_worked, hourly_rate, bonus):\n",
        "        super().__init__(name, hours_worked, hourly_rate)\n",
        "        self.bonus = bonus\n",
        "\n",
        "    def calculate_salary(self):\n",
        "        base_salary = super().calculate_salary()\n",
        "        total_salary = base_salary + self.bonus\n",
        "        return total_salary\n",
        "\n",
        "# Test\n",
        "emp = Employee(\"John\", 40, 20)\n",
        "print(f\"Employee Salary: ${emp.calculate_salary()}\")\n",
        "\n",
        "mgr = Manager(\"Alice\", 40, 30, 500)\n",
        "print(f\"Manager Salary: ${mgr.calculate_salary()}\")\n"
      ],
      "metadata": {
        "colab": {
          "base_uri": "https://localhost:8080/"
        },
        "id": "Yq04zHow7jA3",
        "outputId": "f4fadd3d-f3c7-4f14-b5ef-2fa5ccae8539"
      },
      "execution_count": 18,
      "outputs": [
        {
          "output_type": "stream",
          "name": "stdout",
          "text": [
            "Employee Salary: $800\n",
            "Manager Salary: $1700\n"
          ]
        }
      ]
    },
    {
      "cell_type": "code",
      "source": [
        "'''Create a class Product with attributes name, price, and quantity. Implement a method total_price() that\n",
        "calculates the total price of the product.'''\n",
        "class Product:\n",
        "    def __init__(self, name, price, quantity):\n",
        "        self.name = name\n",
        "        self.price = price\n",
        "        self.quantity = quantity\n",
        "\n",
        "    def total_price(self):\n",
        "        return self.price * self.quantity\n",
        "\n",
        "product = Product(\"Laptop\", 1000, 2)\n",
        "print(product.total_price())"
      ],
      "metadata": {
        "colab": {
          "base_uri": "https://localhost:8080/"
        },
        "id": "7oUTyOUcZIPe",
        "outputId": "d6bd70b9-0a1c-474b-fb73-63e37684d360"
      },
      "execution_count": 19,
      "outputs": [
        {
          "output_type": "stream",
          "name": "stdout",
          "text": [
            "2000\n"
          ]
        }
      ]
    },
    {
      "cell_type": "code",
      "source": [
        "''' Create a class Animal with an abstract method sound(). Create two derived classes Cow and Sheep that\n",
        "implement the sound() method.'''\n",
        "from abc import ABC, abstractmethod\n",
        "\n",
        "# Abstract base class\n",
        "class Animal(ABC):\n",
        "    @abstractmethod\n",
        "    def sound(self):\n",
        "        pass\n",
        "\n",
        "# Derived class: Cow\n",
        "class Cow(Animal):\n",
        "    def sound(self):\n",
        "        print(\"Cow says Moo!\")\n",
        "\n",
        "# Derived class: Sheep\n",
        "class Sheep(Animal):\n",
        "    def sound(self):\n",
        "        print(\"Sheep says Baa!\")\n",
        "\n",
        "# Test\n",
        "c = Cow()\n",
        "s = Sheep()\n",
        "\n",
        "c.sound()   # Cow says Moo!\n",
        "s.sound()   # Sheep says Baa!\n"
      ],
      "metadata": {
        "colab": {
          "base_uri": "https://localhost:8080/"
        },
        "id": "9wdESn9HZIFO",
        "outputId": "f2f79db6-801c-41f6-e27d-45eaf458a0e5"
      },
      "execution_count": 20,
      "outputs": [
        {
          "output_type": "stream",
          "name": "stdout",
          "text": [
            "Cow says Moo!\n",
            "Sheep says Baa!\n"
          ]
        }
      ]
    },
    {
      "cell_type": "code",
      "source": [
        "''' Create a class Book with attributes title, author, and year_published. Add a method get_book_info() that\n",
        "returns a formatted string with the book's details.'''\n",
        "class Book:\n",
        "    def __init__(self, title, author, year_published):\n",
        "        self.title = title\n",
        "        self.author = author\n",
        "        self.year_published = year_published\n",
        "\n",
        "    def get_book_info(self):\n",
        "        return f\"Title: {self.title}\\nAuthor: {self.author}\\nYear Published: {self.year_published}\"\n",
        "\n",
        "book = Book(\"The Great Gatsby\", \"F. Scott Fitzgerald\", 1925)\n",
        "print(book.get_book_info())"
      ],
      "metadata": {
        "colab": {
          "base_uri": "https://localhost:8080/"
        },
        "id": "4dIgS0djZKaF",
        "outputId": "be8a6ebc-f7d6-45ef-b575-8466ae898ba5"
      },
      "execution_count": 24,
      "outputs": [
        {
          "output_type": "stream",
          "name": "stdout",
          "text": [
            "Title: The Great Gatsby\n",
            "Author: F. Scott Fitzgerald\n",
            "Year Published: 1925\n"
          ]
        }
      ]
    },
    {
      "cell_type": "code",
      "source": [
        "'''Create a class House with attributes address and price. Create a derived class Mansion that adds an\n",
        "attribute number_of_rooms.'''\n",
        "# Base class\n",
        "class House:\n",
        "    def __init__(self, address, price):\n",
        "        self.address = address\n",
        "        self.price = price\n",
        "\n",
        "    def get_info(self):\n",
        "        return f\"Address: {self.address}\\nPrice: ${self.price}\"\n",
        "\n",
        "# Derived class\n",
        "class Mansion(House):\n",
        "    def __init__(self, address, price, number_of_rooms):\n",
        "        super().__init__(address, price)\n",
        "        self.number_of_rooms = number_of_rooms\n",
        "\n",
        "    def get_info(self):\n",
        "        base_info = super().get_info()\n",
        "        return f\"{base_info}\\nNumber of Rooms: {self.number_of_rooms}\"\n",
        "\n",
        "# Test\n",
        "h = House(\"123 Main St\", 250000)\n",
        "print(h.get_info())\n",
        "\n",
        "print(\"\\n\")\n",
        "\n",
        "m = Mansion(\"456 Luxury Ave\", 2000000, 12)\n",
        "print(m.get_info())\n"
      ],
      "metadata": {
        "colab": {
          "base_uri": "https://localhost:8080/"
        },
        "id": "YFlYDj9VZKUR",
        "outputId": "3ba305f3-0479-4195-8c3e-fb8362987258"
      },
      "execution_count": 26,
      "outputs": [
        {
          "output_type": "stream",
          "name": "stdout",
          "text": [
            "Address: 123 Main St\n",
            "Price: $250000\n",
            "\n",
            "\n",
            "Address: 456 Luxury Ave\n",
            "Price: $2000000\n",
            "Number of Rooms: 12\n"
          ]
        }
      ]
    }
  ]
}